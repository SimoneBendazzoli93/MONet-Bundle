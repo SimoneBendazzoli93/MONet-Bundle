{
 "cells": [
  {
   "cell_type": "markdown",
   "id": "a460fd65",
   "metadata": {},
   "source": [
    "# Local Inference with MONet Bundle"
   ]
  },
  {
   "cell_type": "markdown",
   "id": "5612ff8d",
   "metadata": {},
   "source": [
    "## Requirements\n",
    "\n",
    "- Python 3.10 or higher\n",
    "- NVidia GPU with CUDA support\n",
    "- PyTorch 2.4.1 with CUDA support"
   ]
  },
  {
   "cell_type": "code",
   "execution_count": null,
   "id": "082ca975-3585-48b9-94b8-d79814fa8768",
   "metadata": {},
   "outputs": [],
   "source": [
    "%%bash\n",
    "\n",
    "pip install light-the-torch\n",
    "ltt install torch==2.4.1 torchvision"
   ]
  },
  {
   "cell_type": "code",
   "execution_count": null,
   "id": "95e6ef3b-67f7-4645-8907-87043b5ad00c",
   "metadata": {},
   "outputs": [],
   "source": [
    "pip install mlflow\n",
    "pip install git+https://github.com/SimoneBendazzoli93/dynamic-network-architectures.git\n",
    "pip install git+https://github.com/SimoneBendazzoli93/nnUNet.git\n",
    "pip install batchgenerators==0.25\n",
    "pip install git+https://github.com/SimoneBendazzoli93/MONAI.git@dev\n",
    "pip install nvflare\n",
    "pip install lightning"
   ]
  },
  {
   "cell_type": "code",
   "execution_count": null,
   "id": "a888afd0-7e70-4efa-ad7b-3ce0c0d91917",
   "metadata": {},
   "outputs": [],
   "source": [
    "import requests\n",
    "import json\n",
    "import torch\n",
    "from monai.bundle import ConfigParser\n",
    "from monai.transforms import LoadImaged, EnsureChannelFirstd, Compose, SaveImage"
   ]
  },
  {
   "cell_type": "markdown",
   "id": "8eb6af99",
   "metadata": {},
   "source": [
    "## Download pre-trained MONet bundle"
   ]
  },
  {
   "cell_type": "code",
   "execution_count": null,
   "id": "68738fba-1c4f-4b22-a29b-34b5701b1bd8",
   "metadata": {},
   "outputs": [],
   "source": [
    "response = requests.get(\"https://<MONAI-LABEL_SERVER_URL>/model/MONetBundle\")"
   ]
  },
  {
   "cell_type": "code",
   "execution_count": null,
   "id": "d2deaf69-446c-4247-89db-ff55589a8685",
   "metadata": {},
   "outputs": [],
   "source": [
    "if response.status_code == 200:\n",
    "    with open(\"MONetBundle.ts\", \"wb\") as f:\n",
    "        f.write(response.content)\n",
    "    print(\"File saved as MONetBundle.ts\")\n",
    "else:\n",
    "    print(f\"Failed to download file. Status code: {response.status_code}\")"
   ]
  },
  {
   "cell_type": "markdown",
   "id": "9b94c615",
   "metadata": {},
   "source": [
    "## Create MONet Predictor"
   ]
  },
  {
   "cell_type": "code",
   "execution_count": null,
   "id": "fa335cbb-66fe-472a-88f2-bf7028c7a0a5",
   "metadata": {},
   "outputs": [],
   "source": [
    "extra_files = {\"inference.json\": \"\",\"metadata.json\": \"\"}\n",
    "model = torch.jit.load(\"MONetBundle.ts\",_extra_files=extra_files)\n",
    "\n",
    "inference = json.loads(extra_files[\"inference.json\"])\n",
    "metadata = json.loads(extra_files[\"metadata.json\"])\n",
    "\n",
    "parser = ConfigParser(inference)\n",
    "\n",
    "nnunet_predictor = parser.get_parsed_content(\"network_def\",instantiate=True)\n",
    "nnunet_predictor.predictor.network = model"
   ]
  },
  {
   "cell_type": "markdown",
   "id": "ec5c05fd",
   "metadata": {},
   "source": [
    "## Load the input image"
   ]
  },
  {
   "cell_type": "code",
   "execution_count": null,
   "id": "942ad5d1-65e6-4752-89e8-8a0f617d6855",
   "metadata": {},
   "outputs": [],
   "source": [
    "transform = Compose([\n",
    "    LoadImaged(keys=[\"image\"]),\n",
    "    EnsureChannelFirstd(keys=[\"image\"])\n",
    "])"
   ]
  },
  {
   "cell_type": "code",
   "execution_count": null,
   "id": "32f1b434-7a44-474b-adec-2d4afdeb9b01",
   "metadata": {},
   "outputs": [],
   "source": [
    "input_image_path = \"<INPUT_IMAGE_PATH>\"  # Replace with the path to your input image\n",
    "data = transform({\"image\": input_image_path})"
   ]
  },
  {
   "cell_type": "markdown",
   "id": "15fb12d0",
   "metadata": {},
   "source": [
    "## Run inference"
   ]
  },
  {
   "cell_type": "code",
   "execution_count": null,
   "id": "22698540-03ec-4efd-ae08-547a8ff72ed0",
   "metadata": {},
   "outputs": [],
   "source": [
    "pred = nnunet_predictor(data[\"image\"][None])"
   ]
  },
  {
   "cell_type": "markdown",
   "id": "cf0e6294",
   "metadata": {},
   "source": [
    "## Save prediction"
   ]
  },
  {
   "cell_type": "code",
   "execution_count": null,
   "id": "aed8fa8d-badf-46c4-9026-15e3b3c62f9a",
   "metadata": {
    "scrolled": true
   },
   "outputs": [],
   "source": [
    "output_folder = \"<OUTPUT_FOLDER>\"  # Replace with the desired output folder path\n",
    "pred = SaveImage(output_dir=output_folder,separate_folder=False, output_postfix=\"segmentation\", output_ext=\".nii.gz\")(pred[0])"
   ]
  }
 ],
 "metadata": {
  "kernelspec": {
   "display_name": "MONet-Spleen",
   "language": "python",
   "name": "monet-spleen"
  },
  "language_info": {
   "codemirror_mode": {
    "name": "ipython",
    "version": 3
   },
   "file_extension": ".py",
   "mimetype": "text/x-python",
   "name": "python",
   "nbconvert_exporter": "python",
   "pygments_lexer": "ipython3",
   "version": "3.10.18"
  }
 },
 "nbformat": 4,
 "nbformat_minor": 5
}
